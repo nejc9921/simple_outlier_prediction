{
 "cells": [
  {
   "cell_type": "markdown",
   "id": "entertaining-phoenix",
   "metadata": {},
   "source": [
    "# Simple outlier detection"
   ]
  },
  {
   "cell_type": "markdown",
   "id": "legitimate-rover",
   "metadata": {},
   "source": [
    "Code by Nejc Znidar"
   ]
  },
  {
   "cell_type": "markdown",
   "id": "southern-cache",
   "metadata": {},
   "source": [
    "First we import the packages:"
   ]
  },
  {
   "cell_type": "code",
   "execution_count": 1,
   "id": "competent-pilot",
   "metadata": {},
   "outputs": [],
   "source": [
    "import numpy as np\n",
    "import pandas as pd\n",
    "import matplotlib\n",
    "import matplotlib.pyplot as plt"
   ]
  },
  {
   "cell_type": "markdown",
   "id": "grateful-tongue",
   "metadata": {},
   "source": [
    "Let us load the train data:"
   ]
  },
  {
   "cell_type": "code",
   "execution_count": 2,
   "id": "healthy-cosmetic",
   "metadata": {},
   "outputs": [],
   "source": [
    "def load_train_data():\n",
    "    mydata = pd.read_csv('train.csv') ### I have prepared it under CSV file, otherwise it would be opened as .gz.\n",
    "    return (mydata)"
   ]
  },
  {
   "cell_type": "code",
   "execution_count": 3,
   "id": "tropical-petroleum",
   "metadata": {},
   "outputs": [],
   "source": [
    "data = load_train_data()"
   ]
  },
  {
   "cell_type": "code",
   "execution_count": 4,
   "id": "lasting-sullivan",
   "metadata": {},
   "outputs": [
    {
     "data": {
      "text/html": [
       "<div>\n",
       "<style scoped>\n",
       "    .dataframe tbody tr th:only-of-type {\n",
       "        vertical-align: middle;\n",
       "    }\n",
       "\n",
       "    .dataframe tbody tr th {\n",
       "        vertical-align: top;\n",
       "    }\n",
       "\n",
       "    .dataframe thead th {\n",
       "        text-align: right;\n",
       "    }\n",
       "</style>\n",
       "<table border=\"1\" class=\"dataframe\">\n",
       "  <thead>\n",
       "    <tr style=\"text-align: right;\">\n",
       "      <th></th>\n",
       "      <th>id</th>\n",
       "      <th>click</th>\n",
       "      <th>hour</th>\n",
       "      <th>C1</th>\n",
       "      <th>banner_pos</th>\n",
       "      <th>site_id</th>\n",
       "      <th>site_domain</th>\n",
       "      <th>site_category</th>\n",
       "      <th>app_id</th>\n",
       "      <th>app_domain</th>\n",
       "      <th>...</th>\n",
       "      <th>device_type</th>\n",
       "      <th>device_conn_type</th>\n",
       "      <th>C14</th>\n",
       "      <th>C15</th>\n",
       "      <th>C16</th>\n",
       "      <th>C17</th>\n",
       "      <th>C18</th>\n",
       "      <th>C19</th>\n",
       "      <th>C20</th>\n",
       "      <th>C21</th>\n",
       "    </tr>\n",
       "  </thead>\n",
       "  <tbody>\n",
       "    <tr>\n",
       "      <th>0</th>\n",
       "      <td>1.000009e+18</td>\n",
       "      <td>0</td>\n",
       "      <td>14102100</td>\n",
       "      <td>1005</td>\n",
       "      <td>0</td>\n",
       "      <td>1fbe01fe</td>\n",
       "      <td>f3845767</td>\n",
       "      <td>28905ebd</td>\n",
       "      <td>ecad2386</td>\n",
       "      <td>7801e8d9</td>\n",
       "      <td>...</td>\n",
       "      <td>1</td>\n",
       "      <td>2</td>\n",
       "      <td>15706</td>\n",
       "      <td>320</td>\n",
       "      <td>50</td>\n",
       "      <td>1722</td>\n",
       "      <td>0</td>\n",
       "      <td>35</td>\n",
       "      <td>-1</td>\n",
       "      <td>79</td>\n",
       "    </tr>\n",
       "    <tr>\n",
       "      <th>1</th>\n",
       "      <td>1.000017e+19</td>\n",
       "      <td>0</td>\n",
       "      <td>14102100</td>\n",
       "      <td>1005</td>\n",
       "      <td>0</td>\n",
       "      <td>1fbe01fe</td>\n",
       "      <td>f3845767</td>\n",
       "      <td>28905ebd</td>\n",
       "      <td>ecad2386</td>\n",
       "      <td>7801e8d9</td>\n",
       "      <td>...</td>\n",
       "      <td>1</td>\n",
       "      <td>0</td>\n",
       "      <td>15704</td>\n",
       "      <td>320</td>\n",
       "      <td>50</td>\n",
       "      <td>1722</td>\n",
       "      <td>0</td>\n",
       "      <td>35</td>\n",
       "      <td>100084</td>\n",
       "      <td>79</td>\n",
       "    </tr>\n",
       "    <tr>\n",
       "      <th>2</th>\n",
       "      <td>1.000037e+19</td>\n",
       "      <td>0</td>\n",
       "      <td>14102100</td>\n",
       "      <td>1005</td>\n",
       "      <td>0</td>\n",
       "      <td>1fbe01fe</td>\n",
       "      <td>f3845767</td>\n",
       "      <td>28905ebd</td>\n",
       "      <td>ecad2386</td>\n",
       "      <td>7801e8d9</td>\n",
       "      <td>...</td>\n",
       "      <td>1</td>\n",
       "      <td>0</td>\n",
       "      <td>15704</td>\n",
       "      <td>320</td>\n",
       "      <td>50</td>\n",
       "      <td>1722</td>\n",
       "      <td>0</td>\n",
       "      <td>35</td>\n",
       "      <td>100084</td>\n",
       "      <td>79</td>\n",
       "    </tr>\n",
       "    <tr>\n",
       "      <th>3</th>\n",
       "      <td>1.000064e+19</td>\n",
       "      <td>0</td>\n",
       "      <td>14102100</td>\n",
       "      <td>1005</td>\n",
       "      <td>0</td>\n",
       "      <td>1fbe01fe</td>\n",
       "      <td>f3845767</td>\n",
       "      <td>28905ebd</td>\n",
       "      <td>ecad2386</td>\n",
       "      <td>7801e8d9</td>\n",
       "      <td>...</td>\n",
       "      <td>1</td>\n",
       "      <td>0</td>\n",
       "      <td>15706</td>\n",
       "      <td>320</td>\n",
       "      <td>50</td>\n",
       "      <td>1722</td>\n",
       "      <td>0</td>\n",
       "      <td>35</td>\n",
       "      <td>100084</td>\n",
       "      <td>79</td>\n",
       "    </tr>\n",
       "    <tr>\n",
       "      <th>4</th>\n",
       "      <td>1.000068e+19</td>\n",
       "      <td>0</td>\n",
       "      <td>14102100</td>\n",
       "      <td>1005</td>\n",
       "      <td>1</td>\n",
       "      <td>fe8cc448</td>\n",
       "      <td>9166c161</td>\n",
       "      <td>0569f928</td>\n",
       "      <td>ecad2386</td>\n",
       "      <td>7801e8d9</td>\n",
       "      <td>...</td>\n",
       "      <td>1</td>\n",
       "      <td>0</td>\n",
       "      <td>18993</td>\n",
       "      <td>320</td>\n",
       "      <td>50</td>\n",
       "      <td>2161</td>\n",
       "      <td>0</td>\n",
       "      <td>35</td>\n",
       "      <td>-1</td>\n",
       "      <td>157</td>\n",
       "    </tr>\n",
       "    <tr>\n",
       "      <th>...</th>\n",
       "      <td>...</td>\n",
       "      <td>...</td>\n",
       "      <td>...</td>\n",
       "      <td>...</td>\n",
       "      <td>...</td>\n",
       "      <td>...</td>\n",
       "      <td>...</td>\n",
       "      <td>...</td>\n",
       "      <td>...</td>\n",
       "      <td>...</td>\n",
       "      <td>...</td>\n",
       "      <td>...</td>\n",
       "      <td>...</td>\n",
       "      <td>...</td>\n",
       "      <td>...</td>\n",
       "      <td>...</td>\n",
       "      <td>...</td>\n",
       "      <td>...</td>\n",
       "      <td>...</td>\n",
       "      <td>...</td>\n",
       "      <td>...</td>\n",
       "    </tr>\n",
       "    <tr>\n",
       "      <th>40428962</th>\n",
       "      <td>9.998753e+18</td>\n",
       "      <td>1</td>\n",
       "      <td>14103023</td>\n",
       "      <td>1005</td>\n",
       "      <td>1</td>\n",
       "      <td>e151e245</td>\n",
       "      <td>7e091613</td>\n",
       "      <td>f028772b</td>\n",
       "      <td>ecad2386</td>\n",
       "      <td>7801e8d9</td>\n",
       "      <td>...</td>\n",
       "      <td>1</td>\n",
       "      <td>0</td>\n",
       "      <td>17262</td>\n",
       "      <td>320</td>\n",
       "      <td>50</td>\n",
       "      <td>1872</td>\n",
       "      <td>3</td>\n",
       "      <td>39</td>\n",
       "      <td>100173</td>\n",
       "      <td>23</td>\n",
       "    </tr>\n",
       "    <tr>\n",
       "      <th>40428963</th>\n",
       "      <td>9.999038e+18</td>\n",
       "      <td>0</td>\n",
       "      <td>14103023</td>\n",
       "      <td>1005</td>\n",
       "      <td>0</td>\n",
       "      <td>85f751fd</td>\n",
       "      <td>c4e18dd6</td>\n",
       "      <td>50e219e0</td>\n",
       "      <td>9c13b419</td>\n",
       "      <td>2347f47a</td>\n",
       "      <td>...</td>\n",
       "      <td>1</td>\n",
       "      <td>2</td>\n",
       "      <td>23160</td>\n",
       "      <td>320</td>\n",
       "      <td>50</td>\n",
       "      <td>2667</td>\n",
       "      <td>0</td>\n",
       "      <td>47</td>\n",
       "      <td>-1</td>\n",
       "      <td>221</td>\n",
       "    </tr>\n",
       "    <tr>\n",
       "      <th>40428964</th>\n",
       "      <td>9.999585e+18</td>\n",
       "      <td>0</td>\n",
       "      <td>14103023</td>\n",
       "      <td>1005</td>\n",
       "      <td>1</td>\n",
       "      <td>f61eaaae</td>\n",
       "      <td>6b59f079</td>\n",
       "      <td>f028772b</td>\n",
       "      <td>ecad2386</td>\n",
       "      <td>7801e8d9</td>\n",
       "      <td>...</td>\n",
       "      <td>1</td>\n",
       "      <td>0</td>\n",
       "      <td>20969</td>\n",
       "      <td>320</td>\n",
       "      <td>50</td>\n",
       "      <td>2372</td>\n",
       "      <td>0</td>\n",
       "      <td>813</td>\n",
       "      <td>-1</td>\n",
       "      <td>46</td>\n",
       "    </tr>\n",
       "    <tr>\n",
       "      <th>40428965</th>\n",
       "      <td>9.999636e+18</td>\n",
       "      <td>1</td>\n",
       "      <td>14103023</td>\n",
       "      <td>1005</td>\n",
       "      <td>0</td>\n",
       "      <td>85f751fd</td>\n",
       "      <td>c4e18dd6</td>\n",
       "      <td>50e219e0</td>\n",
       "      <td>3c4b944d</td>\n",
       "      <td>2347f47a</td>\n",
       "      <td>...</td>\n",
       "      <td>1</td>\n",
       "      <td>0</td>\n",
       "      <td>16859</td>\n",
       "      <td>320</td>\n",
       "      <td>50</td>\n",
       "      <td>1887</td>\n",
       "      <td>3</td>\n",
       "      <td>39</td>\n",
       "      <td>100194</td>\n",
       "      <td>23</td>\n",
       "    </tr>\n",
       "    <tr>\n",
       "      <th>40428966</th>\n",
       "      <td>9.999747e+18</td>\n",
       "      <td>0</td>\n",
       "      <td>14103023</td>\n",
       "      <td>1005</td>\n",
       "      <td>0</td>\n",
       "      <td>1fbe01fe</td>\n",
       "      <td>f3845767</td>\n",
       "      <td>28905ebd</td>\n",
       "      <td>ecad2386</td>\n",
       "      <td>7801e8d9</td>\n",
       "      <td>...</td>\n",
       "      <td>1</td>\n",
       "      <td>0</td>\n",
       "      <td>22257</td>\n",
       "      <td>320</td>\n",
       "      <td>50</td>\n",
       "      <td>2545</td>\n",
       "      <td>0</td>\n",
       "      <td>431</td>\n",
       "      <td>100084</td>\n",
       "      <td>221</td>\n",
       "    </tr>\n",
       "  </tbody>\n",
       "</table>\n",
       "<p>40428967 rows × 24 columns</p>\n",
       "</div>"
      ],
      "text/plain": [
       "                    id  click      hour    C1  banner_pos   site_id  \\\n",
       "0         1.000009e+18      0  14102100  1005           0  1fbe01fe   \n",
       "1         1.000017e+19      0  14102100  1005           0  1fbe01fe   \n",
       "2         1.000037e+19      0  14102100  1005           0  1fbe01fe   \n",
       "3         1.000064e+19      0  14102100  1005           0  1fbe01fe   \n",
       "4         1.000068e+19      0  14102100  1005           1  fe8cc448   \n",
       "...                ...    ...       ...   ...         ...       ...   \n",
       "40428962  9.998753e+18      1  14103023  1005           1  e151e245   \n",
       "40428963  9.999038e+18      0  14103023  1005           0  85f751fd   \n",
       "40428964  9.999585e+18      0  14103023  1005           1  f61eaaae   \n",
       "40428965  9.999636e+18      1  14103023  1005           0  85f751fd   \n",
       "40428966  9.999747e+18      0  14103023  1005           0  1fbe01fe   \n",
       "\n",
       "         site_domain site_category    app_id app_domain  ... device_type  \\\n",
       "0           f3845767      28905ebd  ecad2386   7801e8d9  ...           1   \n",
       "1           f3845767      28905ebd  ecad2386   7801e8d9  ...           1   \n",
       "2           f3845767      28905ebd  ecad2386   7801e8d9  ...           1   \n",
       "3           f3845767      28905ebd  ecad2386   7801e8d9  ...           1   \n",
       "4           9166c161      0569f928  ecad2386   7801e8d9  ...           1   \n",
       "...              ...           ...       ...        ...  ...         ...   \n",
       "40428962    7e091613      f028772b  ecad2386   7801e8d9  ...           1   \n",
       "40428963    c4e18dd6      50e219e0  9c13b419   2347f47a  ...           1   \n",
       "40428964    6b59f079      f028772b  ecad2386   7801e8d9  ...           1   \n",
       "40428965    c4e18dd6      50e219e0  3c4b944d   2347f47a  ...           1   \n",
       "40428966    f3845767      28905ebd  ecad2386   7801e8d9  ...           1   \n",
       "\n",
       "         device_conn_type    C14  C15  C16   C17  C18  C19     C20  C21  \n",
       "0                       2  15706  320   50  1722    0   35      -1   79  \n",
       "1                       0  15704  320   50  1722    0   35  100084   79  \n",
       "2                       0  15704  320   50  1722    0   35  100084   79  \n",
       "3                       0  15706  320   50  1722    0   35  100084   79  \n",
       "4                       0  18993  320   50  2161    0   35      -1  157  \n",
       "...                   ...    ...  ...  ...   ...  ...  ...     ...  ...  \n",
       "40428962                0  17262  320   50  1872    3   39  100173   23  \n",
       "40428963                2  23160  320   50  2667    0   47      -1  221  \n",
       "40428964                0  20969  320   50  2372    0  813      -1   46  \n",
       "40428965                0  16859  320   50  1887    3   39  100194   23  \n",
       "40428966                0  22257  320   50  2545    0  431  100084  221  \n",
       "\n",
       "[40428967 rows x 24 columns]"
      ]
     },
     "execution_count": 4,
     "metadata": {},
     "output_type": "execute_result"
    }
   ],
   "source": [
    "data"
   ]
  },
  {
   "cell_type": "markdown",
   "id": "explicit-rough",
   "metadata": {},
   "source": [
    "Extract some basic information about the data"
   ]
  },
  {
   "cell_type": "code",
   "execution_count": 5,
   "id": "electoral-glory",
   "metadata": {
    "scrolled": true
   },
   "outputs": [
    {
     "name": "stdout",
     "output_type": "stream",
     "text": [
      "<class 'pandas.core.frame.DataFrame'>\n",
      "RangeIndex: 40428967 entries, 0 to 40428966\n",
      "Data columns (total 24 columns):\n",
      " #   Column            Dtype  \n",
      "---  ------            -----  \n",
      " 0   id                float64\n",
      " 1   click             int64  \n",
      " 2   hour              int64  \n",
      " 3   C1                int64  \n",
      " 4   banner_pos        int64  \n",
      " 5   site_id           object \n",
      " 6   site_domain       object \n",
      " 7   site_category     object \n",
      " 8   app_id            object \n",
      " 9   app_domain        object \n",
      " 10  app_category      object \n",
      " 11  device_id         object \n",
      " 12  device_ip         object \n",
      " 13  device_model      object \n",
      " 14  device_type       int64  \n",
      " 15  device_conn_type  int64  \n",
      " 16  C14               int64  \n",
      " 17  C15               int64  \n",
      " 18  C16               int64  \n",
      " 19  C17               int64  \n",
      " 20  C18               int64  \n",
      " 21  C19               int64  \n",
      " 22  C20               int64  \n",
      " 23  C21               int64  \n",
      "dtypes: float64(1), int64(14), object(9)\n",
      "memory usage: 7.2+ GB\n"
     ]
    }
   ],
   "source": [
    "data.info()"
   ]
  },
  {
   "cell_type": "markdown",
   "id": "isolated-bandwidth",
   "metadata": {},
   "source": [
    "# Task 1"
   ]
  },
  {
   "cell_type": "markdown",
   "id": "impressed-samoa",
   "metadata": {},
   "source": [
    "There is a difference if we want to show CTR by hour for every available hour or do we aggregate it on one day and show average values for a day. Looking at unique values for every hour in dataset is in graph below, in a graph after that we can see the average CTR per hour where average it over whole sample and we just look at representative day."
   ]
  },
  {
   "cell_type": "code",
   "execution_count": 6,
   "id": "greater-dress",
   "metadata": {
    "scrolled": true
   },
   "outputs": [
    {
     "data": {
      "image/png": "[encoded data removed]",
      "text/plain": [
       "<Figure size 432x288 with 1 Axes>"
      ]
     },
     "metadata": {
      "needs_background": "light"
     },
     "output_type": "display_data"
    }
   ],
   "source": [
    "aggregate_by_hour = data[['hour','click']].groupby('hour').mean()\n",
    "myticks = [k*12 for k in list(range(20))]\n",
    "myticks.append(239)\n",
    "ticklabels = [aggregate_by_hour.index[k*12] for k in list(range(20))]\n",
    "ticklabels.append(aggregate_by_hour.index[239])\n",
    "ax = aggregate_by_hour.plot(kind=\"bar\", title=\"CTR by hour over whole time period\",xlabel = \"Time\",ylabel=\"CTR\",\n",
    "                            xticks = myticks)\n",
    "\n",
    "_ = ax.set_xticklabels(ticklabels,rotation=\"vertical\")\n"
   ]
  },
  {
   "cell_type": "code",
   "execution_count": 7,
   "id": "final-match",
   "metadata": {},
   "outputs": [
    {
     "data": {
      "text/plain": [
       "<AxesSubplot:title={'center':'CTR by hour (average)'}, xlabel='Time', ylabel='CTR'>"
      ]
     },
     "execution_count": 7,
     "metadata": {},
     "output_type": "execute_result"
    },
    {
     "data": {
      "image/png": "[encoded data removed]",
      "text/plain": [
       "<Figure size 432x288 with 1 Axes>"
      ]
     },
     "metadata": {
      "needs_background": "light"
     },
     "output_type": "display_data"
    }
   ],
   "source": [
    "data['only_hour'] = data['hour'] % 100 \n",
    "aggregate_by_dayhour = data[['only_hour','click']].groupby('only_hour').mean()\n",
    "aggregate_by_dayhour.plot(kind=\"bar\", title=\"CTR by hour (average)\",xlabel = \"Time\",ylabel=\"CTR\",legend=False)\n"
   ]
  },
  {
   "cell_type": "markdown",
   "id": "young-interim",
   "metadata": {},
   "source": [
    "# Task 2"
   ]
  },
  {
   "cell_type": "markdown",
   "id": "another-upgrade",
   "metadata": {},
   "source": [
    "Moving average should be done on CTR, which changes over time. Other variables are categorical.\n",
    "Regarding the number of hours we take into account, there was no specification. So, we will take all time points into account."
   ]
  },
  {
   "cell_type": "code",
   "execution_count": 8,
   "id": "recognized-hungary",
   "metadata": {
    "scrolled": false
   },
   "outputs": [
    {
     "data": {
      "text/plain": [
       "<matplotlib.collections.LineCollection at 0x1dda569e788>"
      ]
     },
     "execution_count": 8,
     "metadata": {},
     "output_type": "execute_result"
    },
    {
     "data": {
      "image/png": "[encoded data removed]",
      "text/plain": [
       "<Figure size 432x288 with 1 Axes>"
      ]
     },
     "metadata": {
      "needs_background": "light"
     },
     "output_type": "display_data"
    }
   ],
   "source": [
    "sd = aggregate_by_hour.std().values\n",
    "### Create scatterplot over time points:\n",
    "average = aggregate_by_hour.mean().values[0]\n",
    "upper_bound = average + sd*1.5\n",
    "lower_bound = average - sd*1.5\n",
    "\n",
    "### Now let's do the plotting!\n",
    "y = aggregate_by_hour.values\n",
    "kcolors = ['red' if abs(value - average) > sd*1.5 else 'blue' for value in y]\n",
    "plt.scatter(aggregate_by_hour.index,y, color = kcolors)\n",
    "plt.hlines(average,aggregate_by_hour.index[0],aggregate_by_hour.index[-1],colors=\"blue\")\n",
    "plt.hlines(upper_bound,aggregate_by_hour.index[0],aggregate_by_hour.index[-1],colors=\"red\")\n",
    "plt.hlines(lower_bound,aggregate_by_hour.index[0],aggregate_by_hour.index[-1],colors=\"red\")\n"
   ]
  },
  {
   "cell_type": "markdown",
   "id": "overhead-receipt",
   "metadata": {},
   "source": [
    "In above plot, red lines are 1.5* standard deviation line. Also, red dots represent outliers."
   ]
  },
  {
   "cell_type": "code",
   "execution_count": null,
   "id": "suburban-personality",
   "metadata": {},
   "outputs": [],
   "source": []
  },
  {
   "cell_type": "code",
   "execution_count": null,
   "id": "approved-population",
   "metadata": {},
   "outputs": [],
   "source": []
  },
  {
   "cell_type": "code",
   "execution_count": null,
   "id": "wanted-hazard",
   "metadata": {},
   "outputs": [],
   "source": []
  },
  {
   "cell_type": "code",
   "execution_count": null,
   "id": "declared-monte",
   "metadata": {},
   "outputs": [],
   "source": []
  }
 ],
 "metadata": {
  "kernelspec": {
   "display_name": "Python 3",
   "language": "python",
   "name": "python3"
  },
  "language_info": {
   "codemirror_mode": {
    "name": "ipython",
    "version": 3
   },
   "file_extension": ".py",
   "mimetype": "text/x-python",
   "name": "python",
   "nbconvert_exporter": "python",
   "pygments_lexer": "ipython3",
   "version": "3.7.9"
  }
 },
 "nbformat": 4,
 "nbformat_minor": 5
}
